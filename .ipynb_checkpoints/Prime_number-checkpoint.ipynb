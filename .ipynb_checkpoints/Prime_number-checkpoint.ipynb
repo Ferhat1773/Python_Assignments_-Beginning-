{
 "cells": [
  {
   "cell_type": "code",
   "execution_count": 2,
   "metadata": {},
   "outputs": [
    {
     "name": "stdout",
     "output_type": "stream",
     "text": [
      "please enter an integer to check it's prime or not : 4\n",
      "4 is not a prime number\n"
     ]
    }
   ],
   "source": [
    "num = int(input(\"please enter an integer to check it's prime or not : \"))\n",
    "\n",
    " \n",
    "if num > 1:\n",
    "\n",
    "    for i in range(2, num):\n",
    "\n",
    "        if (num % i) == 0:\n",
    "\n",
    "            print(f\"{num} is not a prime number\")\n",
    "\n",
    "            break\n",
    "\n",
    "        else :\n",
    "\n",
    "            print(f\"{num} is a prime number\")\n",
    "else:\n",
    "\n",
    "    print(f\"{num} is not a prime number\")\n"
   ]
  },
  {
   "cell_type": "code",
   "execution_count": null,
   "metadata": {},
   "outputs": [],
   "source": []
  }
 ],
 "metadata": {
  "kernelspec": {
   "display_name": "Python 3",
   "language": "python",
   "name": "python3"
  },
  "language_info": {
   "codemirror_mode": {
    "name": "ipython",
    "version": 3
   },
   "file_extension": ".py",
   "mimetype": "text/x-python",
   "name": "python",
   "nbconvert_exporter": "python",
   "pygments_lexer": "ipython3",
   "version": "3.7.4"
  }
 },
 "nbformat": 4,
 "nbformat_minor": 2
}
