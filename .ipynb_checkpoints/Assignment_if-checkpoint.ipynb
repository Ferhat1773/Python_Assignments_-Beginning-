{
 "cells": [
  {
   "cell_type": "code",
   "execution_count": null,
   "metadata": {},
   "outputs": [],
   "source": [
    "name = \"Ferhat\"\n",
    "\n",
    "given_name = input(\"Please enter your name to learn your password: \")\n",
    "\n",
    "if given_name.title() == name :\n",
    "\n",
    "    print(\"Hello, Ferhat! Your password is : E2301\")\n",
    "\n",
    "else :\n",
    "\n",
    "    print(f\"Hello {given_name.title()}! See you later\")\n",
    "    \n",
    "  #This my first python code\n",
    "\n"
   ]
  },
  {
   "cell_type": "code",
   "execution_count": null,
   "metadata": {},
   "outputs": [],
   "source": []
  }
 ],
 "metadata": {
  "kernelspec": {
   "display_name": "Python 3",
   "language": "python",
   "name": "python3"
  },
  "language_info": {
   "codemirror_mode": {
    "name": "ipython",
    "version": 3
   },
   "file_extension": ".py",
   "mimetype": "text/x-python",
   "name": "python",
   "nbconvert_exporter": "python",
   "pygments_lexer": "ipython3",
   "version": "3.7.4"
  }
 },
 "nbformat": 4,
 "nbformat_minor": 2
}
