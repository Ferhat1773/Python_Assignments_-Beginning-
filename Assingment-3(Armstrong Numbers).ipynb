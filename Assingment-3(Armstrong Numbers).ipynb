{
 "cells": [
  {
   "cell_type": "code",
   "execution_count": 4,
   "metadata": {},
   "outputs": [
    {
     "name": "stdout",
     "output_type": "stream",
     "text": [
      "Please enter a number = -546\n",
      "It is an invalid entry. Don't use non-numeric, floator negative values!\n"
     ]
    }
   ],
   "source": [
    "number = input(\"Please enter a number = \")\n",
    "total = 0\n",
    "\n",
    "\n",
    "if number.isdigit():\n",
    "    \n",
    "    temp = int(number)\n",
    "    n = len(number)\n",
    "    \n",
    "    while temp > 0:    \n",
    "        digit = temp % 10\n",
    "        total += digit ** n\n",
    "        temp //= 10\n",
    "      \n",
    "    if  total == int(number):\n",
    "        print(f\"{number} is an Armstrong number.\")\n",
    "    \n",
    "    else:\n",
    "        print(f\"{number} is not an Armstrong number.\")\n",
    "\n",
    "else:\n",
    "     print(\"It is an invalid entry. Don't use non-numeric, float\\\n",
    "or negative values!\")"
   ]
  },
  {
   "cell_type": "code",
   "execution_count": null,
   "metadata": {},
   "outputs": [],
   "source": []
  },
  {
   "cell_type": "code",
   "execution_count": null,
   "metadata": {},
   "outputs": [],
   "source": []
  }
 ],
 "metadata": {
  "kernelspec": {
   "display_name": "Python 3",
   "language": "python",
   "name": "python3"
  },
  "language_info": {
   "codemirror_mode": {
    "name": "ipython",
    "version": 3
   },
   "file_extension": ".py",
   "mimetype": "text/x-python",
   "name": "python",
   "nbconvert_exporter": "python",
   "pygments_lexer": "ipython3",
   "version": "3.7.4"
  }
 },
 "nbformat": 4,
 "nbformat_minor": 2
}
