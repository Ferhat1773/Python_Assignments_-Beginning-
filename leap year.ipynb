{
 "cells": [
  {
   "cell_type": "code",
   "execution_count": null,
   "metadata": {},
   "outputs": [],
   "source": [
    "leap_year = int(input(\"Enter a year to check whether leap year or not: \"))\n",
    "\n",
    "if (leap_year % 4 == 0 and leap_year % 100 != 0) or leap_year % 400 == 0 :\n",
    "    print(leap_year, \"is a leap year\")\n",
    "    \n",
    "else:\n",
    "    print(leap_year, \"is not a leap year\") "
   ]
  }
 ],
 "metadata": {
  "kernelspec": {
   "display_name": "Python 3",
   "language": "python",
   "name": "python3"
  },
  "language_info": {
   "codemirror_mode": {
    "name": "ipython",
    "version": 3
   },
   "file_extension": ".py",
   "mimetype": "text/x-python",
   "name": "python",
   "nbconvert_exporter": "python",
   "pygments_lexer": "ipython3",
   "version": "3.7.4"
  }
 },
 "nbformat": 4,
 "nbformat_minor": 2
}
